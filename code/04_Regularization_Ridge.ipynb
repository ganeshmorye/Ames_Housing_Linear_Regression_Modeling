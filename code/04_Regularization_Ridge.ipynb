{
 "cells": [
  {
   "cell_type": "code",
   "execution_count": 1,
   "id": "7e82b654",
   "metadata": {},
   "outputs": [],
   "source": [
    "import pandas as pd\n",
    "import numpy as np\n",
    "import matplotlib.pyplot as plt\n",
    "from matplotlib.ticker import FuncFormatter, MaxNLocator\n",
    "import seaborn as sns\n",
    "\n",
    "from sklearn.linear_model import LinearRegression, Ridge, Lasso, RidgeCV\n",
    "from sklearn.model_selection import train_test_split, cross_val_score\n",
    "from sklearn import metrics\n",
    "from sklearn.preprocessing import StandardScaler, PolynomialFeatures\n",
    "from pickle import dump, load\n",
    "from scipy import stats\n"
   ]
  },
  {
   "cell_type": "code",
   "execution_count": 2,
   "id": "99d0f7ee",
   "metadata": {},
   "outputs": [],
   "source": [
    "dpi = 50"
   ]
  },
  {
   "cell_type": "code",
   "execution_count": 3,
   "id": "cc2c288c",
   "metadata": {},
   "outputs": [],
   "source": [
    " na_values = [\"\", \n",
    "             \"#N/A\", \n",
    "             \"#N/A N/A\", \n",
    "             \"#NA\", \n",
    "             \"-1.#IND\", \n",
    "             \"-1.#QNAN\", \n",
    "             \"-NaN\", \n",
    "             \"-nan\", \n",
    "             \"1.#IND\", \n",
    "             \"1.#QNAN\", \n",
    "             \"<NA>\", \n",
    "             \"N/A\", \n",
    "#              \"NA\", \n",
    "             \"NULL\", \n",
    "             \"NaN\", \n",
    "             \"n/a\", \n",
    "             \"nan\", \n",
    "             \"null\"]\n"
   ]
  },
  {
   "cell_type": "code",
   "execution_count": 4,
   "id": "a914a2db",
   "metadata": {},
   "outputs": [],
   "source": [
    "dict_dtype = {'MS SubClass' : str, \n",
    "                'Overall Qual' : str,\n",
    "               'Overall Cond' : str,\n",
    "               'Bsmt Full Bath' : str,\n",
    "                'Bsmt Half Bath' : str,\n",
    "                'Full Bath' : str,\n",
    "                'Half Bath' : str,\n",
    "                'Bedroom AbvGr' : str,\n",
    "                'Kitchen AbvGr' : str,\n",
    "                'TotRms AbvGrd' : str,\n",
    "                'Fireplaces' : str,\n",
    "                'Garage Cars' : str}"
   ]
  },
  {
   "cell_type": "code",
   "execution_count": 5,
   "id": "11298d05",
   "metadata": {},
   "outputs": [],
   "source": [
    "dummies_numeric_cols = ['Bsmt Full Bath',\n",
    "                        'Bsmt Half Bath',\n",
    "                        'Full Bath',\n",
    "                        'Half Bath',\n",
    "                        'Bedroom AbvGr',\n",
    "                        'Kitchen AbvGr',\n",
    "                        'TotRms AbvGrd',\n",
    "                        'Fireplaces',\n",
    "                        'Garage Cars']"
   ]
  },
  {
   "cell_type": "code",
   "execution_count": 6,
   "id": "4e9b4051",
   "metadata": {},
   "outputs": [],
   "source": [
    "dummies_nominal_cols = ['MS SubClass',\n",
    "                        'MS Zoning',\n",
    "                        'Street',\n",
    "                        'Land Contour',\n",
    "                        'Lot Config',\n",
    "                        'Neighborhood',\n",
    "                        'Condition 1',\n",
    "                        'Bldg Type',\n",
    "                        'House Style',\n",
    "                        'Roof Style',\n",
    "                        'Exterior 1st',\n",
    "                        'Mas Vnr Type',\n",
    "                        'Foundation',\n",
    "                        'Central Air',\n",
    "                        'Garage Type',\n",
    "                        'Sale Type',\n",
    "                        'house_with_pool']\n"
   ]
  },
  {
   "cell_type": "code",
   "execution_count": 7,
   "id": "9c7b316e",
   "metadata": {},
   "outputs": [],
   "source": [
    "dict_ordinal_encode = {\n",
    "                        'Lot Shape' : {'Reg':4, 'IR1':3, 'IR2':2, 'IR3':1},\n",
    "                        'Utilities' : {'AllPub':3, 'NoSeWa':2, 'NoSeWr':1},\n",
    "                        'Land Slope': {'Sev' : 3, 'Mod' :2, 'Gtl' :1},\n",
    "                        'Overall Qual' : {'1':1, '2':2, '3':3, '4':4, '5':5, '6':6, '7':7, '8':8, '9':9, '10':10},\n",
    "                        'Overall Cond' : {'1':1, '2':2, '3':3, '4':4, '5':5, '6':6, '7':7, '8':8, '9':9, '10':10},\n",
    "                        'Exter Qual' : {'NA':0, 'Po':1, 'Fa':1, 'TA':2, 'Gd':3, 'Ex':4},\n",
    "                        'Exter Cond' : {'NA':0, 'Po':1, 'Fa':2, 'TA':3, 'Gd':4, 'Ex':5},\n",
    "                        'Bsmt Qual' : {'NA':0, 'Po':1, 'Fa':1, 'TA':1, 'Gd':2, 'Ex':3},\n",
    "                        'Bsmt Cond' : {'NA':0, 'Po':1, 'Fa':2, 'TA':3, 'Gd':4, 'Ex':5},\n",
    "                        'Bsmt Exposure' : {'Gd' : 4, 'Av' : 3, 'Mn' : 2, 'No' : 1, 'NA' : 0},\n",
    "                        'BsmtFin Type 1' : {'GLQ' : 6, 'Unf' : 5, 'ALQ' : 4, 'BLQ' : 3, 'LwQ' : 2, 'Rec' : 1, 'NA' : 0},\n",
    "                        'BsmtFin Type 2' : {'GLQ' : 6, 'Unf' : 5, 'ALQ' : 4, 'BLQ' : 3, 'LwQ' : 2, 'Rec' : 1, 'NA' : 0},\n",
    "                        'Heating QC' : {'NA':0, 'Po':1, 'Fa':1, 'TA':1, 'Gd':2, 'Ex':3},\n",
    "                        'Electrical' : {'Sbrkr' : 5, 'FuseA' : 4, 'FuseF' : 3, 'FuseP' : 2, 'Mix' : 1},\n",
    "                        'Kitchen Qual' : {'NA':0, 'Po':1, 'Fa':2, 'TA':3, 'Gd':4, 'Ex':5},\n",
    "                        'Functional' : {'Typ' : 8, 'Min1' : 7, 'Maj1' : 6, 'Min2' : 5, 'Mod' : 4, 'Sev' : 3, 'Maj2' : 2, 'Sal' : 1},\n",
    "                        'Fireplace Qu' : {'NA':0, 'Po':1, 'Fa':1, 'TA':1, 'Gd':1, 'Ex':1},\n",
    "                        'Garage Finish' : {'Fin' : 3, 'RFn' : 3, 'Unf' : 3, 'NA' : 1},\n",
    "                        'Garage Qual' : {'NA':0, 'Po':1, 'Fa':1, 'TA':1, 'Gd':1, 'Ex':2},\n",
    "                        'Garage Cond' : {'NA':0, 'Po':1, 'Fa':2, 'TA':3, 'Gd':4, 'Ex':5},\n",
    "                        'Paved Drive' : {'Y' : 3, 'P' : 2, 'N' : 1},\n",
    "                        'Pool QC' : {'NA':0, 'Po':1, 'Fa':1, 'TA':2, 'Gd':2, 'Ex':3},\n",
    "                        'Fence' : {'NA' : 5, 'GdPrv' : 4, 'MnPrv' : 3, 'GdWo' : 2, 'MnWw' : 1}}"
   ]
  },
  {
   "cell_type": "code",
   "execution_count": 8,
   "id": "d0f605e1",
   "metadata": {},
   "outputs": [],
   "source": [
    "dict_nominal_combine_labels = {\n",
    "                                'Lot Config' :  {'Inside':'Inside', 'Corner':'Corner', 'CulDSac':'CulDSac', 'FR2':'FR', 'FR3':'FR'},\n",
    "                                'House Style' : {'1Story':'1Story', '2Story':'2Story', '1.5Fin': '1.5Fin', 'SLvl':'SLvl', \n",
    "                                                 'SFoyer':'SFoyer', '2.5Unf':'Unf', '1.5Unf':'Unf', '2.5Fin':'Unf'},\n",
    "                                'Roof Style' : {'Gable':'Gable', 'Hip':'Hip', 'Flat':'Flat', 'Gambrel':'Other', \n",
    "                                                'Mansard':'Other', 'Shed':'Other'},\n",
    "                                'Exterior 1st' : {'VinylSd' : 'VinylSd', 'MetalSd' : 'MetalSd', 'HdBoard' : 'HdBoard', \n",
    "                                                  'Wd Sdng' : 'Wd Sdng', 'Plywood' : 'Plywood',\n",
    "                                                'CemntBd' : 'CemntBd', 'BrkFace' : 'BrkFace', 'WdShing' : 'WdShing', \n",
    "                                                  'AsbShng' : 'AsbShng', 'Stucco' : 'Stucco',\n",
    "                                                'BrkComm' : 'Other', 'Stone' : 'Other', 'CBlock' : 'Other', \n",
    "                                                  'ImStucc' : 'Other', 'AsphShn' : 'Other', 'PreCast' : 'Other'},\n",
    "                                'Mas Vnr Type' : {'BrkFace':'BrkFace', 'None':'None', 'NA':'Other', 'Stone':'Stone', \n",
    "                                                  'BrkCmn':'Other', 'CBlock':'CBlock'},\n",
    "                                'Sale Type' : {'CWD' : 'Oth', 'Con' : 'Oth', 'ConLD' : 'Oth', 'ConLI' : 'Oth',\n",
    "                                              'ConLw' : 'Oth', 'New' : 'New', 'Oth' : 'Oth', 'WD ' : 'WD', 'VWD' : 'Oth'},\n",
    "                                'Foundation' : {'CBlock' : 'CBlock','PConc' : 'PConc','BrkTil' : 'BrkTil',\n",
    "                                                'Slab' : 'Other','Stone' : 'Other','Wood' : 'Other'},\n",
    "                                'Bldg Type' : {'2fmCon' : 'Other','Duplex' : 'Other','Twnhs' : 'Other','TwnhsE' : 'Other',\n",
    "                                              '1Fam':'1Fam'},\n",
    "                                'Condition 1' : {'Feedr' : 'RR','Norm' : 'Norm','PosA' : 'Pos','PosN' : 'Pos',\n",
    "                                    'RRAe' : 'RR','RRAn' : 'RRN','RRNe' : 'RR','RRNn' : 'RRN', 'Artery' : 'RR'}\n",
    "\n",
    "}"
   ]
  },
  {
   "cell_type": "code",
   "execution_count": 9,
   "id": "4b23f55a",
   "metadata": {},
   "outputs": [],
   "source": [
    "features = ['MS SubClass',\n",
    "            'MS Zoning',\n",
    "            'Lot Area',\n",
    "            'Street',\n",
    "            'Lot Shape',\n",
    "            'Land Contour',\n",
    "            'Lot Config',\n",
    "            'Neighborhood',\n",
    "            'Condition 1',\n",
    "            'Bldg Type',\n",
    "            'House Style',\n",
    "            'Overall Qual',\n",
    "            'Roof Style',\n",
    "            'Exterior 1st',\n",
    "            'Mas Vnr Type',\n",
    "            'Exter Qual',\n",
    "            'Foundation',\n",
    "            'Bsmt Qual',\n",
    "            'Bsmt Exposure',\n",
    "            'BsmtFin Type 1',\n",
    "            'Total Bsmt SF',\n",
    "            'Heating QC',\n",
    "            'Central Air',\n",
    "            'Gr Liv Area',\n",
    "            'Bsmt Full Bath',\n",
    "            'Bsmt Half Bath',\n",
    "            'Full Bath',\n",
    "            'Half Bath',\n",
    "            'Bedroom AbvGr',\n",
    "            'Kitchen AbvGr',\n",
    "            'Kitchen Qual',\n",
    "            'Fireplace Qu',\n",
    "            'Garage Type',\n",
    "            'Garage Finish',\n",
    "            'Garage Cars',\n",
    "            'Garage Qual',\n",
    "            'Paved Drive',\n",
    "            'Pool Area',\n",
    "            'Sale Type']"
   ]
  },
  {
   "cell_type": "code",
   "execution_count": 10,
   "id": "ac3ece3a",
   "metadata": {},
   "outputs": [],
   "source": [
    "drop_columns = ['Id',\n",
    "                'PID',\n",
    "                'TotRms AbvGrd',\n",
    "                'Fireplaces',\n",
    "                'Garage Yr Blt',\n",
    "                'Utilities',\n",
    "                'Land Slope',\n",
    "                'Overall Cond',\n",
    "                'Exter Cond',\n",
    "                'Bsmt Cond',\n",
    "                'BsmtFin Type 2',\n",
    "                'Electrical',\n",
    "                'Functional',\n",
    "                'Garage Cond',\n",
    "                'Fence',\n",
    "                'Lot Frontage',\n",
    "                'Mas Vnr Area',\n",
    "                'BsmtFin SF 1',\n",
    "                'BsmtFin SF 2',\n",
    "                'Bsmt Unf SF',\n",
    "                '1st Flr SF',\n",
    "                '2nd Flr SF',\n",
    "                'Low Qual Fin SF',\n",
    "                'Garage Area',\n",
    "                'Wood Deck SF',\n",
    "                'Open Porch SF',\n",
    "                'Enclosed Porch',\n",
    "                '3Ssn Porch',\n",
    "                'Screen Porch',\n",
    "                'Misc Val',\n",
    "                 'Alley',\n",
    "                'Condition 2',\n",
    "                'Roof Matl',\n",
    "                'Exterior 2nd',\n",
    "                'Heating',\n",
    "                'Misc Feature',\n",
    "                'Fence',\n",
    "                'Yr Sold',\n",
    "                'Year Built',\n",
    "                'Year Remod/Add',\n",
    "                'Mo Sold',\n",
    "                'Pool Area',\n",
    "\n",
    "                'Street',\n",
    "                'Roof Style',\n",
    "                'Mas Vnr Type',\n",
    "                \"Lot Shape\",\n",
    "                'Lot Config',\n",
    "                'Lot Area',\n",
    "                'Land Contour'\n",
    "]"
   ]
  },
  {
   "cell_type": "code",
   "execution_count": 11,
   "id": "8dd313cc",
   "metadata": {},
   "outputs": [],
   "source": [
    "#start the model with both For Sure and Maybe columns as string types\n",
    "df = pd.read_csv('../datasets/train_clean_v1.csv', index_col=0, na_values=na_values,keep_default_na=False, dtype=dict_dtype)"
   ]
  },
  {
   "cell_type": "code",
   "execution_count": 12,
   "id": "3e9799fa",
   "metadata": {},
   "outputs": [
    {
     "data": {
      "text/html": [
       "<div>\n",
       "<style scoped>\n",
       "    .dataframe tbody tr th:only-of-type {\n",
       "        vertical-align: middle;\n",
       "    }\n",
       "\n",
       "    .dataframe tbody tr th {\n",
       "        vertical-align: top;\n",
       "    }\n",
       "\n",
       "    .dataframe thead th {\n",
       "        text-align: right;\n",
       "    }\n",
       "</style>\n",
       "<table border=\"1\" class=\"dataframe\">\n",
       "  <thead>\n",
       "    <tr style=\"text-align: right;\">\n",
       "      <th></th>\n",
       "      <th>Year Built</th>\n",
       "      <th>Yr Sold</th>\n",
       "      <th>SalePrice</th>\n",
       "    </tr>\n",
       "  </thead>\n",
       "  <tbody>\n",
       "    <tr>\n",
       "      <th>1035</th>\n",
       "      <td>1892</td>\n",
       "      <td>2006</td>\n",
       "      <td>475000</td>\n",
       "    </tr>\n",
       "    <tr>\n",
       "      <th>1158</th>\n",
       "      <td>2008</td>\n",
       "      <td>2008</td>\n",
       "      <td>475000</td>\n",
       "    </tr>\n",
       "  </tbody>\n",
       "</table>\n",
       "</div>"
      ],
      "text/plain": [
       "      Year Built  Yr Sold  SalePrice\n",
       "1035        1892     2006     475000\n",
       "1158        2008     2008     475000"
      ]
     },
     "execution_count": 12,
     "metadata": {},
     "output_type": "execute_result"
    }
   ],
   "source": [
    "#finding the outlier propertry from 1892 which was sold for 475,000\n",
    "mask = (df['SalePrice'] == 475000)\n",
    "df.loc[mask, ['Year Built', 'Yr Sold', 'SalePrice']]"
   ]
  },
  {
   "cell_type": "code",
   "execution_count": 13,
   "id": "f8a8383a",
   "metadata": {
    "scrolled": true
   },
   "outputs": [
    {
     "data": {
      "text/plain": [
       "['Id',\n",
       " 'PID',\n",
       " 'MS SubClass',\n",
       " 'MS Zoning',\n",
       " 'Lot Frontage',\n",
       " 'Lot Area',\n",
       " 'Street',\n",
       " 'Alley',\n",
       " 'Lot Shape',\n",
       " 'Land Contour',\n",
       " 'Utilities',\n",
       " 'Lot Config',\n",
       " 'Land Slope',\n",
       " 'Neighborhood',\n",
       " 'Condition 1',\n",
       " 'Condition 2',\n",
       " 'Bldg Type',\n",
       " 'House Style',\n",
       " 'Overall Qual',\n",
       " 'Overall Cond',\n",
       " 'Year Built',\n",
       " 'Year Remod/Add',\n",
       " 'Roof Style',\n",
       " 'Roof Matl',\n",
       " 'Exterior 1st',\n",
       " 'Exterior 2nd',\n",
       " 'Mas Vnr Type',\n",
       " 'Mas Vnr Area',\n",
       " 'Exter Qual',\n",
       " 'Exter Cond',\n",
       " 'Foundation',\n",
       " 'Bsmt Qual',\n",
       " 'Bsmt Cond',\n",
       " 'Bsmt Exposure',\n",
       " 'BsmtFin Type 1',\n",
       " 'BsmtFin SF 1',\n",
       " 'BsmtFin Type 2',\n",
       " 'BsmtFin SF 2',\n",
       " 'Bsmt Unf SF',\n",
       " 'Total Bsmt SF',\n",
       " 'Heating',\n",
       " 'Heating QC',\n",
       " 'Central Air',\n",
       " 'Electrical',\n",
       " '1st Flr SF',\n",
       " '2nd Flr SF',\n",
       " 'Low Qual Fin SF',\n",
       " 'Gr Liv Area',\n",
       " 'Bsmt Full Bath',\n",
       " 'Bsmt Half Bath',\n",
       " 'Full Bath',\n",
       " 'Half Bath',\n",
       " 'Bedroom AbvGr',\n",
       " 'Kitchen AbvGr',\n",
       " 'Kitchen Qual',\n",
       " 'TotRms AbvGrd',\n",
       " 'Functional',\n",
       " 'Fireplaces',\n",
       " 'Fireplace Qu',\n",
       " 'Garage Type',\n",
       " 'Garage Yr Blt',\n",
       " 'Garage Finish',\n",
       " 'Garage Cars',\n",
       " 'Garage Area',\n",
       " 'Garage Qual',\n",
       " 'Garage Cond',\n",
       " 'Paved Drive',\n",
       " 'Wood Deck SF',\n",
       " 'Open Porch SF',\n",
       " 'Enclosed Porch',\n",
       " '3Ssn Porch',\n",
       " 'Screen Porch',\n",
       " 'Pool Area',\n",
       " 'Pool QC',\n",
       " 'Fence',\n",
       " 'Misc Feature',\n",
       " 'Misc Val',\n",
       " 'Mo Sold',\n",
       " 'Yr Sold',\n",
       " 'Sale Type',\n",
       " 'SalePrice']"
      ]
     },
     "execution_count": 13,
     "metadata": {},
     "output_type": "execute_result"
    }
   ],
   "source": [
    "list(df.columns)"
   ]
  },
  {
   "cell_type": "markdown",
   "id": "d2881306",
   "metadata": {},
   "source": [
    "### Functions"
   ]
  },
  {
   "cell_type": "code",
   "execution_count": 14,
   "id": "c978f30e",
   "metadata": {},
   "outputs": [],
   "source": [
    "#functions to format all the figures in consistent manner\n",
    "def format_fig(fig, flag='NotTimeSeries', grid = 'NotFacetGrid'):\n",
    "    if grid == 'NotFacetGrid':\n",
    "        fig.suptitle(fig._suptitle.get_text(), fontsize=18, fontweight = 'extra bold', \n",
    "                     fontfamily = 'Cambria', color = 'ghostwhite')\n",
    "        fig.set_facecolor('#00283b')\n",
    "    elif grid == 'FacetGrid':\n",
    "        fig.fig.suptitle(fig.fig._suptitle.get_text(), fontsize=18, fontweight = 'extra bold', \n",
    "                     fontfamily = 'Cambria', color = 'ghostwhite')\n",
    "        fig.fig.set_facecolor('#00283b')\n",
    "    else:\n",
    "        pass\n",
    "    \n",
    "    #loop through all the axes in the figure\n",
    "    for ax in fig.axes:\n",
    "        #ax = ax.get_shared_x_axes().get_siblings(ax)[1] #primary axis location\n",
    "        ax.grid(False)\n",
    "        ax.set_facecolor('#00283b')\n",
    "        ax.tick_params(axis='both', which='both', labelsize=12, labelcolor = 'ghostwhite', color='ghostwhite')\n",
    "        if flag == 'NotTimeSeries':\n",
    "            ax.xaxis.set_major_formatter(FuncFormatter(lambda x, pos: '{:,.0f}'.format(x/1000) + 'K'))\n",
    "        elif flag == 'TimeSeries':\n",
    "            axPrimary = ax.get_shared_x_axes().get_siblings(ax)[1]\n",
    "            axPrimary.yaxis.set_major_formatter(FuncFormatter(lambda x, pos: '{:,.0f}'.format(x/1000) + 'K'))\n",
    "        elif flag =='NoFormatting':\n",
    "            pass\n",
    "        else:\n",
    "            pass\n",
    "\n",
    "        ax.xaxis.get_label().set_fontname('Cambria')\n",
    "        ax.xaxis.get_label().set_fontsize(10)\n",
    "        ax.xaxis.get_label().set_color('ghostwhite')\n",
    "        ax.yaxis.get_label().set_fontname('Cambria')\n",
    "        ax.yaxis.get_label().set_fontsize(10)\n",
    "        ax.yaxis.get_label().set_color('ghostwhite')\n",
    "\n",
    "        ax.spines['bottom'].set_color('ghostwhite')\n",
    "        ax.spines['top'].set_color('ghostwhite') \n",
    "        ax.spines['right'].set_color('ghostwhite')\n",
    "        ax.spines['left'].set_color('ghostwhite')\n",
    "\n",
    "        ax.set_title(ax.get_title(), fontsize=14, fontweight = 'extra bold', fontfamily = 'Cambria', color = 'ghostwhite')"
   ]
  },
  {
   "cell_type": "code",
   "execution_count": 15,
   "id": "3ef17a4b",
   "metadata": {},
   "outputs": [],
   "source": [
    "def drop_cols(X):\n",
    "    return X.drop(columns=drop_columns)"
   ]
  },
  {
   "cell_type": "code",
   "execution_count": 16,
   "id": "4f84f84c",
   "metadata": {},
   "outputs": [],
   "source": [
    "def age_when_sold(X):\n",
    "    X['age_when_sold'] = X['Yr Sold'] - X['Year Built']\n",
    "    #setting negative X to zero, based on the county website house was sold on 10/2007 and built on 2008.\n",
    "    #Possibly sold a lot to build. PID = \t09-08-154-195\n",
    "    mask = (X['age_when_sold'] < 0)\n",
    "    mask_cols = ['age_when_sold']\n",
    "    X.loc[mask, mask_cols] = 0\n",
    "    return X\n",
    "    "
   ]
  },
  {
   "cell_type": "code",
   "execution_count": 17,
   "id": "751d7446",
   "metadata": {},
   "outputs": [],
   "source": [
    "def age_when_remodeled(X):\n",
    "    X['age_when_remodeled'] = X['Yr Sold'] - X['Year Remod/Add']\n",
    "    #setting these two age_when_remodeled rows with negative age to zero. since its only 2 data points\n",
    "    mask = (X['age_when_remodeled'] < 0)\n",
    "    mask_cols = ['age_when_remodeled']\n",
    "    X.loc[mask, mask_cols] = 0\n",
    "    return X"
   ]
  },
  {
   "cell_type": "code",
   "execution_count": 18,
   "id": "9501851d",
   "metadata": {},
   "outputs": [],
   "source": [
    "def total_porch_sf(X):\n",
    "    X['Porch Total SF'] = X.loc[:,['Wood Deck SF','Open Porch SF','Enclosed Porch','3Ssn Porch','Screen Porch']].sum(axis=1)\n",
    "    return X"
   ]
  },
  {
   "cell_type": "code",
   "execution_count": 19,
   "id": "3d2e7b86",
   "metadata": {},
   "outputs": [],
   "source": [
    "def lot_area(X):\n",
    "    X['Lot Area'] = X[\"Lot Area\"].apply(lambda x : x if x < 20000 else 20000)\n",
    "    return X"
   ]
  },
  {
   "cell_type": "code",
   "execution_count": 20,
   "id": "0fb1118b",
   "metadata": {},
   "outputs": [],
   "source": [
    "def get_dummies(X, dummies_nominal_cols=dummies_nominal_cols):\n",
    "    cols = set(dummies_nominal_cols).intersection(set(X.columns))\n",
    "    X = pd.get_dummies(data=X, columns=cols, drop_first=True)\n",
    "    return X"
   ]
  },
  {
   "cell_type": "code",
   "execution_count": 21,
   "id": "a6f897b5",
   "metadata": {},
   "outputs": [],
   "source": [
    "def get_dummies_numeric(X, dummies_nominal_cols=dummies_numeric_cols):\n",
    "    cols = set(dummies_numeric_cols).intersection(set(X.columns))\n",
    "    X = pd.get_dummies(data=X, columns=cols, drop_first=True)\n",
    "    return X"
   ]
  },
  {
   "cell_type": "code",
   "execution_count": 22,
   "id": "909a998c",
   "metadata": {},
   "outputs": [],
   "source": [
    "def get_dummies_ordinal(X, dict_ordinal_encode=dict_ordinal_encode ):\n",
    "    cols = set(dict_ordinal_encode.keys()).intersection(set(X.columns))\n",
    "    X = pd.get_dummies(data=X, columns=cols, drop_first=True)\n",
    "    return X"
   ]
  },
  {
   "cell_type": "code",
   "execution_count": 23,
   "id": "08d024b1",
   "metadata": {},
   "outputs": [],
   "source": [
    "def map_ordinal(X, dict_ordinal_encode=dict_ordinal_encode):\n",
    "    #gen = (col for col in dict_ordinal_encode.keys() if col not in X.columns)\n",
    "    cols = set(dict_ordinal_encode.keys()).intersection(set(X.columns))\n",
    "    for col in cols:\n",
    "        X[col] = X[col].map(dict_ordinal_encode[col])\n",
    "    return X"
   ]
  },
  {
   "cell_type": "code",
   "execution_count": 24,
   "id": "e8136df2",
   "metadata": {},
   "outputs": [],
   "source": [
    "def map_nominal_combine_labels(X, dict_nominal_combine_labels=dict_nominal_combine_labels ):\n",
    "    cols = set(dict_nominal_combine_labels.keys()).intersection(set(X.columns))\n",
    "    for col in cols:\n",
    "        X[col] = X[col].map(dict_nominal_combine_labels[col])\n",
    "    return X"
   ]
  },
  {
   "cell_type": "code",
   "execution_count": 25,
   "id": "6f5e62ff",
   "metadata": {},
   "outputs": [],
   "source": [
    "def check_nulls(X):\n",
    "    return X.isnull().sum().sum()"
   ]
  },
  {
   "cell_type": "code",
   "execution_count": 26,
   "id": "d0e9df6d",
   "metadata": {},
   "outputs": [],
   "source": [
    "def check_obj_cols(X):\n",
    "    return X.select_dtypes(object).columns"
   ]
  },
  {
   "cell_type": "code",
   "execution_count": 27,
   "id": "f664a0ea",
   "metadata": {},
   "outputs": [],
   "source": [
    "def to_numeric(X):\n",
    "    X[X.select_dtypes(object).columns] = X[X.select_dtypes(object).columns].apply(pd.to_numeric, errors='raise')\n",
    "    return X"
   ]
  },
  {
   "cell_type": "code",
   "execution_count": 28,
   "id": "d790b7e1",
   "metadata": {},
   "outputs": [],
   "source": [
    "def check_features(X):\n",
    "    cols = [col.split(\"_\",1)[0] for col in X.columns]\n",
    "    print(f'Variables in features but not in Dataframe: {(list(set(features)-set(cols)))}')\n",
    "    print(f'Variables in Dataframe but not in features: {list(set(cols)-set(features))}')"
   ]
  },
  {
   "cell_type": "code",
   "execution_count": 29,
   "id": "a6385e75",
   "metadata": {},
   "outputs": [],
   "source": [
    "def house_with_pool(X):\n",
    "    X['house_with_pool'] = X['Pool Area'].apply(lambda x: 1 if x > 0 else 0)\n",
    "    return X"
   ]
  },
  {
   "cell_type": "code",
   "execution_count": 30,
   "id": "641aab24",
   "metadata": {},
   "outputs": [],
   "source": [
    "def drop_neighborhood(X, y):\n",
    "    mask = (X['Neighborhood'] == 'Greens') | (X['Neighborhood'] == 'GrnHill') | (X['Neighborhood'] == 'Landmrk') | (X['Neighborhood'] == 'Blueste')\n",
    "    X = X.loc[~mask]\n",
    "    y = y[~mask]\n",
    "    return X, y\n"
   ]
  },
  {
   "cell_type": "code",
   "execution_count": 31,
   "id": "2e89c9de",
   "metadata": {},
   "outputs": [],
   "source": [
    "def drop_rooms(X, y=pd.DataFrame()):\n",
    "    mask = (pd.to_numeric(X['Bsmt Full Bath']) > 2) | (pd.to_numeric(X['Full Bath']) > 3) | \\\n",
    "    (pd.to_numeric(X['Bedroom AbvGr']) >7) | \\\n",
    "    (pd.to_numeric(X['TotRms AbvGrd']) > 12) | \\\n",
    "    (pd.to_numeric(X['Garage Cars']) > 4) | (pd.to_numeric(X['Fireplaces']) > 3)\n",
    "    X = X.loc[~mask]\n",
    "    y = y[~mask]\n",
    "    return X, y"
   ]
  },
  {
   "cell_type": "code",
   "execution_count": 32,
   "id": "e4f7cee0",
   "metadata": {},
   "outputs": [],
   "source": [
    "### Plot histograms after standardization for continuous variables in train and test dataset\n",
    "\n",
    "def plot_hist_ss(xtrain, xtest):\n",
    "    cols = cols = set(dict_ordinal_encode.keys()).intersection(set(xtrain.columns))"
   ]
  },
  {
   "cell_type": "markdown",
   "id": "eb9ba2bc",
   "metadata": {},
   "source": [
    "### Feature Engineering Train Dataset"
   ]
  },
  {
   "cell_type": "code",
   "execution_count": 33,
   "id": "d4a9c4f8",
   "metadata": {},
   "outputs": [],
   "source": [
    "X = df.copy()\n",
    "y = df['SalePrice']\n",
    "df=[]"
   ]
  },
  {
   "cell_type": "code",
   "execution_count": 34,
   "id": "83f069e4",
   "metadata": {},
   "outputs": [
    {
     "data": {
      "text/html": [
       "<div>\n",
       "<style scoped>\n",
       "    .dataframe tbody tr th:only-of-type {\n",
       "        vertical-align: middle;\n",
       "    }\n",
       "\n",
       "    .dataframe tbody tr th {\n",
       "        vertical-align: top;\n",
       "    }\n",
       "\n",
       "    .dataframe thead th {\n",
       "        text-align: right;\n",
       "    }\n",
       "</style>\n",
       "<table border=\"1\" class=\"dataframe\">\n",
       "  <thead>\n",
       "    <tr style=\"text-align: right;\">\n",
       "      <th></th>\n",
       "      <th>Id</th>\n",
       "      <th>PID</th>\n",
       "      <th>Lot Frontage</th>\n",
       "      <th>Lot Area</th>\n",
       "      <th>Year Built</th>\n",
       "      <th>Year Remod/Add</th>\n",
       "      <th>Mas Vnr Area</th>\n",
       "      <th>BsmtFin SF 1</th>\n",
       "      <th>BsmtFin SF 2</th>\n",
       "      <th>Bsmt Unf SF</th>\n",
       "      <th>...</th>\n",
       "      <th>Wood Deck SF</th>\n",
       "      <th>Open Porch SF</th>\n",
       "      <th>Enclosed Porch</th>\n",
       "      <th>3Ssn Porch</th>\n",
       "      <th>Screen Porch</th>\n",
       "      <th>Pool Area</th>\n",
       "      <th>Misc Val</th>\n",
       "      <th>Mo Sold</th>\n",
       "      <th>Yr Sold</th>\n",
       "      <th>SalePrice</th>\n",
       "    </tr>\n",
       "  </thead>\n",
       "  <tbody>\n",
       "    <tr>\n",
       "      <th>0</th>\n",
       "      <td>109</td>\n",
       "      <td>533352170</td>\n",
       "      <td>NaN</td>\n",
       "      <td>13517</td>\n",
       "      <td>1976</td>\n",
       "      <td>2005</td>\n",
       "      <td>289.0</td>\n",
       "      <td>533.0</td>\n",
       "      <td>0.0</td>\n",
       "      <td>192.0</td>\n",
       "      <td>...</td>\n",
       "      <td>0</td>\n",
       "      <td>44</td>\n",
       "      <td>0</td>\n",
       "      <td>0</td>\n",
       "      <td>0</td>\n",
       "      <td>0</td>\n",
       "      <td>0</td>\n",
       "      <td>3</td>\n",
       "      <td>2010</td>\n",
       "      <td>130500</td>\n",
       "    </tr>\n",
       "    <tr>\n",
       "      <th>1</th>\n",
       "      <td>544</td>\n",
       "      <td>531379050</td>\n",
       "      <td>43.0</td>\n",
       "      <td>11492</td>\n",
       "      <td>1996</td>\n",
       "      <td>1997</td>\n",
       "      <td>132.0</td>\n",
       "      <td>637.0</td>\n",
       "      <td>0.0</td>\n",
       "      <td>276.0</td>\n",
       "      <td>...</td>\n",
       "      <td>0</td>\n",
       "      <td>74</td>\n",
       "      <td>0</td>\n",
       "      <td>0</td>\n",
       "      <td>0</td>\n",
       "      <td>0</td>\n",
       "      <td>0</td>\n",
       "      <td>4</td>\n",
       "      <td>2009</td>\n",
       "      <td>220000</td>\n",
       "    </tr>\n",
       "    <tr>\n",
       "      <th>2</th>\n",
       "      <td>153</td>\n",
       "      <td>535304180</td>\n",
       "      <td>68.0</td>\n",
       "      <td>7922</td>\n",
       "      <td>1953</td>\n",
       "      <td>2007</td>\n",
       "      <td>0.0</td>\n",
       "      <td>731.0</td>\n",
       "      <td>0.0</td>\n",
       "      <td>326.0</td>\n",
       "      <td>...</td>\n",
       "      <td>0</td>\n",
       "      <td>52</td>\n",
       "      <td>0</td>\n",
       "      <td>0</td>\n",
       "      <td>0</td>\n",
       "      <td>0</td>\n",
       "      <td>0</td>\n",
       "      <td>1</td>\n",
       "      <td>2010</td>\n",
       "      <td>109000</td>\n",
       "    </tr>\n",
       "    <tr>\n",
       "      <th>3</th>\n",
       "      <td>318</td>\n",
       "      <td>916386060</td>\n",
       "      <td>73.0</td>\n",
       "      <td>9802</td>\n",
       "      <td>2006</td>\n",
       "      <td>2007</td>\n",
       "      <td>0.0</td>\n",
       "      <td>0.0</td>\n",
       "      <td>0.0</td>\n",
       "      <td>384.0</td>\n",
       "      <td>...</td>\n",
       "      <td>100</td>\n",
       "      <td>0</td>\n",
       "      <td>0</td>\n",
       "      <td>0</td>\n",
       "      <td>0</td>\n",
       "      <td>0</td>\n",
       "      <td>0</td>\n",
       "      <td>4</td>\n",
       "      <td>2010</td>\n",
       "      <td>174000</td>\n",
       "    </tr>\n",
       "    <tr>\n",
       "      <th>4</th>\n",
       "      <td>255</td>\n",
       "      <td>906425045</td>\n",
       "      <td>82.0</td>\n",
       "      <td>14235</td>\n",
       "      <td>1900</td>\n",
       "      <td>1993</td>\n",
       "      <td>0.0</td>\n",
       "      <td>0.0</td>\n",
       "      <td>0.0</td>\n",
       "      <td>676.0</td>\n",
       "      <td>...</td>\n",
       "      <td>0</td>\n",
       "      <td>59</td>\n",
       "      <td>0</td>\n",
       "      <td>0</td>\n",
       "      <td>0</td>\n",
       "      <td>0</td>\n",
       "      <td>0</td>\n",
       "      <td>3</td>\n",
       "      <td>2010</td>\n",
       "      <td>138500</td>\n",
       "    </tr>\n",
       "    <tr>\n",
       "      <th>...</th>\n",
       "      <td>...</td>\n",
       "      <td>...</td>\n",
       "      <td>...</td>\n",
       "      <td>...</td>\n",
       "      <td>...</td>\n",
       "      <td>...</td>\n",
       "      <td>...</td>\n",
       "      <td>...</td>\n",
       "      <td>...</td>\n",
       "      <td>...</td>\n",
       "      <td>...</td>\n",
       "      <td>...</td>\n",
       "      <td>...</td>\n",
       "      <td>...</td>\n",
       "      <td>...</td>\n",
       "      <td>...</td>\n",
       "      <td>...</td>\n",
       "      <td>...</td>\n",
       "      <td>...</td>\n",
       "      <td>...</td>\n",
       "      <td>...</td>\n",
       "    </tr>\n",
       "    <tr>\n",
       "      <th>2046</th>\n",
       "      <td>1587</td>\n",
       "      <td>921126030</td>\n",
       "      <td>79.0</td>\n",
       "      <td>11449</td>\n",
       "      <td>2007</td>\n",
       "      <td>2007</td>\n",
       "      <td>0.0</td>\n",
       "      <td>1011.0</td>\n",
       "      <td>0.0</td>\n",
       "      <td>873.0</td>\n",
       "      <td>...</td>\n",
       "      <td>0</td>\n",
       "      <td>276</td>\n",
       "      <td>0</td>\n",
       "      <td>0</td>\n",
       "      <td>0</td>\n",
       "      <td>0</td>\n",
       "      <td>0</td>\n",
       "      <td>1</td>\n",
       "      <td>2008</td>\n",
       "      <td>298751</td>\n",
       "    </tr>\n",
       "    <tr>\n",
       "      <th>2047</th>\n",
       "      <td>785</td>\n",
       "      <td>905377130</td>\n",
       "      <td>NaN</td>\n",
       "      <td>12342</td>\n",
       "      <td>1940</td>\n",
       "      <td>1950</td>\n",
       "      <td>0.0</td>\n",
       "      <td>262.0</td>\n",
       "      <td>0.0</td>\n",
       "      <td>599.0</td>\n",
       "      <td>...</td>\n",
       "      <td>158</td>\n",
       "      <td>0</td>\n",
       "      <td>0</td>\n",
       "      <td>0</td>\n",
       "      <td>0</td>\n",
       "      <td>0</td>\n",
       "      <td>0</td>\n",
       "      <td>3</td>\n",
       "      <td>2009</td>\n",
       "      <td>82500</td>\n",
       "    </tr>\n",
       "    <tr>\n",
       "      <th>2048</th>\n",
       "      <td>916</td>\n",
       "      <td>909253010</td>\n",
       "      <td>57.0</td>\n",
       "      <td>7558</td>\n",
       "      <td>1928</td>\n",
       "      <td>1950</td>\n",
       "      <td>0.0</td>\n",
       "      <td>0.0</td>\n",
       "      <td>0.0</td>\n",
       "      <td>896.0</td>\n",
       "      <td>...</td>\n",
       "      <td>0</td>\n",
       "      <td>0</td>\n",
       "      <td>0</td>\n",
       "      <td>0</td>\n",
       "      <td>0</td>\n",
       "      <td>0</td>\n",
       "      <td>0</td>\n",
       "      <td>3</td>\n",
       "      <td>2009</td>\n",
       "      <td>177000</td>\n",
       "    </tr>\n",
       "    <tr>\n",
       "      <th>2049</th>\n",
       "      <td>639</td>\n",
       "      <td>535179160</td>\n",
       "      <td>80.0</td>\n",
       "      <td>10400</td>\n",
       "      <td>1956</td>\n",
       "      <td>1956</td>\n",
       "      <td>0.0</td>\n",
       "      <td>155.0</td>\n",
       "      <td>750.0</td>\n",
       "      <td>295.0</td>\n",
       "      <td>...</td>\n",
       "      <td>0</td>\n",
       "      <td>189</td>\n",
       "      <td>140</td>\n",
       "      <td>0</td>\n",
       "      <td>0</td>\n",
       "      <td>0</td>\n",
       "      <td>0</td>\n",
       "      <td>11</td>\n",
       "      <td>2009</td>\n",
       "      <td>144000</td>\n",
       "    </tr>\n",
       "    <tr>\n",
       "      <th>2050</th>\n",
       "      <td>10</td>\n",
       "      <td>527162130</td>\n",
       "      <td>60.0</td>\n",
       "      <td>7500</td>\n",
       "      <td>1999</td>\n",
       "      <td>1999</td>\n",
       "      <td>0.0</td>\n",
       "      <td>0.0</td>\n",
       "      <td>0.0</td>\n",
       "      <td>994.0</td>\n",
       "      <td>...</td>\n",
       "      <td>140</td>\n",
       "      <td>60</td>\n",
       "      <td>0</td>\n",
       "      <td>0</td>\n",
       "      <td>0</td>\n",
       "      <td>0</td>\n",
       "      <td>0</td>\n",
       "      <td>6</td>\n",
       "      <td>2010</td>\n",
       "      <td>189000</td>\n",
       "    </tr>\n",
       "  </tbody>\n",
       "</table>\n",
       "<p>2051 rows × 27 columns</p>\n",
       "</div>"
      ],
      "text/plain": [
       "        Id        PID  Lot Frontage  Lot Area  Year Built  Year Remod/Add  \\\n",
       "0      109  533352170           NaN     13517        1976            2005   \n",
       "1      544  531379050          43.0     11492        1996            1997   \n",
       "2      153  535304180          68.0      7922        1953            2007   \n",
       "3      318  916386060          73.0      9802        2006            2007   \n",
       "4      255  906425045          82.0     14235        1900            1993   \n",
       "...    ...        ...           ...       ...         ...             ...   \n",
       "2046  1587  921126030          79.0     11449        2007            2007   \n",
       "2047   785  905377130           NaN     12342        1940            1950   \n",
       "2048   916  909253010          57.0      7558        1928            1950   \n",
       "2049   639  535179160          80.0     10400        1956            1956   \n",
       "2050    10  527162130          60.0      7500        1999            1999   \n",
       "\n",
       "      Mas Vnr Area  BsmtFin SF 1  BsmtFin SF 2  Bsmt Unf SF  ...  \\\n",
       "0            289.0         533.0           0.0        192.0  ...   \n",
       "1            132.0         637.0           0.0        276.0  ...   \n",
       "2              0.0         731.0           0.0        326.0  ...   \n",
       "3              0.0           0.0           0.0        384.0  ...   \n",
       "4              0.0           0.0           0.0        676.0  ...   \n",
       "...            ...           ...           ...          ...  ...   \n",
       "2046           0.0        1011.0           0.0        873.0  ...   \n",
       "2047           0.0         262.0           0.0        599.0  ...   \n",
       "2048           0.0           0.0           0.0        896.0  ...   \n",
       "2049           0.0         155.0         750.0        295.0  ...   \n",
       "2050           0.0           0.0           0.0        994.0  ...   \n",
       "\n",
       "      Wood Deck SF  Open Porch SF  Enclosed Porch  3Ssn Porch  Screen Porch  \\\n",
       "0                0             44               0           0             0   \n",
       "1                0             74               0           0             0   \n",
       "2                0             52               0           0             0   \n",
       "3              100              0               0           0             0   \n",
       "4                0             59               0           0             0   \n",
       "...            ...            ...             ...         ...           ...   \n",
       "2046             0            276               0           0             0   \n",
       "2047           158              0               0           0             0   \n",
       "2048             0              0               0           0             0   \n",
       "2049             0            189             140           0             0   \n",
       "2050           140             60               0           0             0   \n",
       "\n",
       "      Pool Area  Misc Val  Mo Sold  Yr Sold  SalePrice  \n",
       "0             0         0        3     2010     130500  \n",
       "1             0         0        4     2009     220000  \n",
       "2             0         0        1     2010     109000  \n",
       "3             0         0        4     2010     174000  \n",
       "4             0         0        3     2010     138500  \n",
       "...         ...       ...      ...      ...        ...  \n",
       "2046          0         0        1     2008     298751  \n",
       "2047          0         0        3     2009      82500  \n",
       "2048          0         0        3     2009     177000  \n",
       "2049          0         0       11     2009     144000  \n",
       "2050          0         0        6     2010     189000  \n",
       "\n",
       "[2051 rows x 27 columns]"
      ]
     },
     "execution_count": 34,
     "metadata": {},
     "output_type": "execute_result"
    }
   ],
   "source": [
    "X.select_dtypes(np.number)"
   ]
  },
  {
   "cell_type": "code",
   "execution_count": 35,
   "id": "36c1288f",
   "metadata": {},
   "outputs": [],
   "source": [
    "z_lot_area = X['Lot Area']<24572"
   ]
  },
  {
   "cell_type": "code",
   "execution_count": 36,
   "id": "f8d45588",
   "metadata": {
    "scrolled": true
   },
   "outputs": [
    {
     "data": {
      "text/plain": [
       "count    2051.000000\n",
       "mean       36.067284\n",
       "std        30.210471\n",
       "min         0.000000\n",
       "25%         7.000000\n",
       "50%        34.000000\n",
       "75%        54.000000\n",
       "max       136.000000\n",
       "Name: age_when_sold, dtype: float64"
      ]
     },
     "execution_count": 36,
     "metadata": {},
     "output_type": "execute_result"
    }
   ],
   "source": [
    "X = age_when_sold(X)\n",
    "X['age_when_sold'].describe()\n"
   ]
  },
  {
   "cell_type": "markdown",
   "id": "bfdafcce",
   "metadata": {},
   "source": [
    "#### One negative value in the age_when_sold column"
   ]
  },
  {
   "cell_type": "code",
   "execution_count": 37,
   "id": "d7e58bdc",
   "metadata": {},
   "outputs": [
    {
     "data": {
      "text/plain": [
       "count    2051.000000\n",
       "mean       23.587031\n",
       "std        21.019378\n",
       "min         0.000000\n",
       "25%         4.000000\n",
       "50%        15.000000\n",
       "75%        43.000000\n",
       "max        60.000000\n",
       "Name: age_when_remodeled, dtype: float64"
      ]
     },
     "execution_count": 37,
     "metadata": {},
     "output_type": "execute_result"
    }
   ],
   "source": [
    "X = age_when_remodeled(X)\n",
    "X['age_when_remodeled'].describe()"
   ]
  },
  {
   "cell_type": "code",
   "execution_count": 38,
   "id": "6ea7fcd7",
   "metadata": {},
   "outputs": [],
   "source": [
    "#PID 528120010 was remodeled in 2009 to add BWIN, CNTRLVAC, DISHWSHR, DISPOSER, FP, GUTTERS, J, KITISLAN, LTUB, MICRO, SINK, SPRKSYS\n",
    "#PID 908154195 was remodeled in 2009 to add CNTRLVAC, DISHWSHR, DISPOSER, FP, GUTTERS, J, MICRO, OVEN, RANGE, RESELEV, SECURITY, SINK"
   ]
  },
  {
   "cell_type": "code",
   "execution_count": 39,
   "id": "403f5fcb",
   "metadata": {
    "scrolled": true
   },
   "outputs": [
    {
     "data": {
      "text/plain": [
       "count    2051.000000\n",
       "mean      183.065334\n",
       "std       160.116258\n",
       "min         0.000000\n",
       "25%        49.000000\n",
       "50%       164.000000\n",
       "75%       268.000000\n",
       "max      1424.000000\n",
       "Name: Porch Total SF, dtype: float64"
      ]
     },
     "execution_count": 39,
     "metadata": {},
     "output_type": "execute_result"
    }
   ],
   "source": [
    "X = total_porch_sf(X)\n",
    "X['Porch Total SF'].describe()"
   ]
  },
  {
   "cell_type": "code",
   "execution_count": 40,
   "id": "1d7f632a",
   "metadata": {},
   "outputs": [],
   "source": [
    "X = house_with_pool(X)\n",
    "X['house_with_pool'] = X['house_with_pool'].astype(str)"
   ]
  },
  {
   "cell_type": "code",
   "execution_count": 41,
   "id": "a6c19e07",
   "metadata": {},
   "outputs": [],
   "source": [
    "X, y = drop_neighborhood(X, y)"
   ]
  },
  {
   "cell_type": "code",
   "execution_count": 42,
   "id": "c8d3b240",
   "metadata": {},
   "outputs": [],
   "source": [
    "X, y = drop_rooms(X, y)"
   ]
  },
  {
   "cell_type": "code",
   "execution_count": 43,
   "id": "9dfb1c55",
   "metadata": {},
   "outputs": [],
   "source": [
    "X = drop_cols(X)\n",
    "X.drop(columns = ['SalePrice'], inplace=True)"
   ]
  },
  {
   "cell_type": "code",
   "execution_count": 44,
   "id": "5b576d90",
   "metadata": {},
   "outputs": [
    {
     "data": {
      "text/html": [
       "<div>\n",
       "<style scoped>\n",
       "    .dataframe tbody tr th:only-of-type {\n",
       "        vertical-align: middle;\n",
       "    }\n",
       "\n",
       "    .dataframe tbody tr th {\n",
       "        vertical-align: top;\n",
       "    }\n",
       "\n",
       "    .dataframe thead th {\n",
       "        text-align: right;\n",
       "    }\n",
       "</style>\n",
       "<table border=\"1\" class=\"dataframe\">\n",
       "  <thead>\n",
       "    <tr style=\"text-align: right;\">\n",
       "      <th></th>\n",
       "      <th>Total Bsmt SF</th>\n",
       "      <th>Gr Liv Area</th>\n",
       "      <th>age_when_sold</th>\n",
       "      <th>age_when_remodeled</th>\n",
       "      <th>Porch Total SF</th>\n",
       "    </tr>\n",
       "  </thead>\n",
       "  <tbody>\n",
       "    <tr>\n",
       "      <th>0</th>\n",
       "      <td>725.0</td>\n",
       "      <td>1479</td>\n",
       "      <td>34</td>\n",
       "      <td>5</td>\n",
       "      <td>44</td>\n",
       "    </tr>\n",
       "    <tr>\n",
       "      <th>1</th>\n",
       "      <td>913.0</td>\n",
       "      <td>2122</td>\n",
       "      <td>13</td>\n",
       "      <td>12</td>\n",
       "      <td>74</td>\n",
       "    </tr>\n",
       "    <tr>\n",
       "      <th>2</th>\n",
       "      <td>1057.0</td>\n",
       "      <td>1057</td>\n",
       "      <td>57</td>\n",
       "      <td>3</td>\n",
       "      <td>52</td>\n",
       "    </tr>\n",
       "    <tr>\n",
       "      <th>3</th>\n",
       "      <td>384.0</td>\n",
       "      <td>1444</td>\n",
       "      <td>4</td>\n",
       "      <td>3</td>\n",
       "      <td>100</td>\n",
       "    </tr>\n",
       "    <tr>\n",
       "      <th>4</th>\n",
       "      <td>676.0</td>\n",
       "      <td>1445</td>\n",
       "      <td>110</td>\n",
       "      <td>17</td>\n",
       "      <td>59</td>\n",
       "    </tr>\n",
       "    <tr>\n",
       "      <th>...</th>\n",
       "      <td>...</td>\n",
       "      <td>...</td>\n",
       "      <td>...</td>\n",
       "      <td>...</td>\n",
       "      <td>...</td>\n",
       "    </tr>\n",
       "    <tr>\n",
       "      <th>2046</th>\n",
       "      <td>1884.0</td>\n",
       "      <td>1728</td>\n",
       "      <td>1</td>\n",
       "      <td>1</td>\n",
       "      <td>276</td>\n",
       "    </tr>\n",
       "    <tr>\n",
       "      <th>2047</th>\n",
       "      <td>861.0</td>\n",
       "      <td>861</td>\n",
       "      <td>69</td>\n",
       "      <td>59</td>\n",
       "      <td>158</td>\n",
       "    </tr>\n",
       "    <tr>\n",
       "      <th>2048</th>\n",
       "      <td>896.0</td>\n",
       "      <td>1913</td>\n",
       "      <td>81</td>\n",
       "      <td>59</td>\n",
       "      <td>0</td>\n",
       "    </tr>\n",
       "    <tr>\n",
       "      <th>2049</th>\n",
       "      <td>1200.0</td>\n",
       "      <td>1200</td>\n",
       "      <td>53</td>\n",
       "      <td>53</td>\n",
       "      <td>329</td>\n",
       "    </tr>\n",
       "    <tr>\n",
       "      <th>2050</th>\n",
       "      <td>994.0</td>\n",
       "      <td>1804</td>\n",
       "      <td>11</td>\n",
       "      <td>11</td>\n",
       "      <td>200</td>\n",
       "    </tr>\n",
       "  </tbody>\n",
       "</table>\n",
       "<p>2030 rows × 5 columns</p>\n",
       "</div>"
      ],
      "text/plain": [
       "      Total Bsmt SF  Gr Liv Area  age_when_sold  age_when_remodeled  \\\n",
       "0             725.0         1479             34                   5   \n",
       "1             913.0         2122             13                  12   \n",
       "2            1057.0         1057             57                   3   \n",
       "3             384.0         1444              4                   3   \n",
       "4             676.0         1445            110                  17   \n",
       "...             ...          ...            ...                 ...   \n",
       "2046         1884.0         1728              1                   1   \n",
       "2047          861.0          861             69                  59   \n",
       "2048          896.0         1913             81                  59   \n",
       "2049         1200.0         1200             53                  53   \n",
       "2050          994.0         1804             11                  11   \n",
       "\n",
       "      Porch Total SF  \n",
       "0                 44  \n",
       "1                 74  \n",
       "2                 52  \n",
       "3                100  \n",
       "4                 59  \n",
       "...              ...  \n",
       "2046             276  \n",
       "2047             158  \n",
       "2048               0  \n",
       "2049             329  \n",
       "2050             200  \n",
       "\n",
       "[2030 rows x 5 columns]"
      ]
     },
     "execution_count": 44,
     "metadata": {},
     "output_type": "execute_result"
    }
   ],
   "source": [
    "X.select_dtypes(np.number)"
   ]
  },
  {
   "cell_type": "code",
   "execution_count": 45,
   "id": "2828b01b",
   "metadata": {},
   "outputs": [],
   "source": [
    "z_sale_price = y"
   ]
  },
  {
   "cell_type": "code",
   "execution_count": 46,
   "id": "b1eb4461",
   "metadata": {},
   "outputs": [],
   "source": [
    "mask = (z_sale_price >13500) & (z_sale_price < 500000) & (z_lot_area)\n",
    "Xz = X.loc[mask]\n",
    "yz = y[mask]"
   ]
  },
  {
   "cell_type": "code",
   "execution_count": 47,
   "id": "192805f1",
   "metadata": {},
   "outputs": [],
   "source": [
    "Xz_train, Xz_test, yz_train, yz_test = train_test_split(Xz, yz, random_state=42)\n",
    "yz_train = np.log(yz_train)\n",
    "yz_test = np.log(yz_test)"
   ]
  },
  {
   "cell_type": "code",
   "execution_count": 48,
   "id": "cc62904c",
   "metadata": {},
   "outputs": [],
   "source": [
    "ss = StandardScaler(with_mean=True, with_std=True)\n",
    "\n",
    "Z_train = ss.fit_transform(Xz_train.select_dtypes(np.number))\n",
    "Z_test = ss.transform(Xz_test.select_dtypes(np.number))\n",
    "Z = ss.transform(Xz.select_dtypes(np.number))"
   ]
  },
  {
   "cell_type": "code",
   "execution_count": 49,
   "id": "7691a868",
   "metadata": {},
   "outputs": [],
   "source": [
    "Z_train = pd.DataFrame(Z_train, columns=Xz_train.select_dtypes(np.number).columns, index =Xz_train.index )\n",
    "Z_test = pd.DataFrame(Z_test, columns=Xz_test.select_dtypes(np.number).columns,  index =Xz_test.index)\n",
    "Z = pd.DataFrame(Z, columns=Xz.select_dtypes(np.number).columns,  index =Xz.index)"
   ]
  },
  {
   "cell_type": "code",
   "execution_count": 50,
   "id": "e1f377dd",
   "metadata": {},
   "outputs": [
    {
     "data": {
      "text/html": [
       "<div>\n",
       "<style scoped>\n",
       "    .dataframe tbody tr th:only-of-type {\n",
       "        vertical-align: middle;\n",
       "    }\n",
       "\n",
       "    .dataframe tbody tr th {\n",
       "        vertical-align: top;\n",
       "    }\n",
       "\n",
       "    .dataframe thead th {\n",
       "        text-align: right;\n",
       "    }\n",
       "</style>\n",
       "<table border=\"1\" class=\"dataframe\">\n",
       "  <thead>\n",
       "    <tr style=\"text-align: right;\">\n",
       "      <th></th>\n",
       "      <th>Total Bsmt SF</th>\n",
       "      <th>Gr Liv Area</th>\n",
       "      <th>age_when_sold</th>\n",
       "      <th>age_when_remodeled</th>\n",
       "      <th>Porch Total SF</th>\n",
       "    </tr>\n",
       "  </thead>\n",
       "  <tbody>\n",
       "    <tr>\n",
       "      <th>728</th>\n",
       "      <td>0.855085</td>\n",
       "      <td>-0.156014</td>\n",
       "      <td>-1.051526</td>\n",
       "      <td>-0.915709</td>\n",
       "      <td>-0.055369</td>\n",
       "    </tr>\n",
       "    <tr>\n",
       "      <th>178</th>\n",
       "      <td>0.629086</td>\n",
       "      <td>2.071242</td>\n",
       "      <td>-0.688419</td>\n",
       "      <td>-0.439227</td>\n",
       "      <td>2.806416</td>\n",
       "    </tr>\n",
       "    <tr>\n",
       "      <th>302</th>\n",
       "      <td>-0.830291</td>\n",
       "      <td>0.193575</td>\n",
       "      <td>1.061097</td>\n",
       "      <td>1.704942</td>\n",
       "      <td>-1.154090</td>\n",
       "    </tr>\n",
       "    <tr>\n",
       "      <th>1728</th>\n",
       "      <td>-0.676419</td>\n",
       "      <td>0.132012</td>\n",
       "      <td>-1.117546</td>\n",
       "      <td>-1.058654</td>\n",
       "      <td>-0.272558</td>\n",
       "    </tr>\n",
       "    <tr>\n",
       "      <th>593</th>\n",
       "      <td>0.227577</td>\n",
       "      <td>-0.103246</td>\n",
       "      <td>0.367892</td>\n",
       "      <td>-0.153338</td>\n",
       "      <td>0.928370</td>\n",
       "    </tr>\n",
       "    <tr>\n",
       "      <th>...</th>\n",
       "      <td>...</td>\n",
       "      <td>...</td>\n",
       "      <td>...</td>\n",
       "      <td>...</td>\n",
       "      <td>...</td>\n",
       "    </tr>\n",
       "    <tr>\n",
       "      <th>1162</th>\n",
       "      <td>0.155450</td>\n",
       "      <td>-0.795828</td>\n",
       "      <td>-1.051526</td>\n",
       "      <td>-0.915709</td>\n",
       "      <td>-0.502523</td>\n",
       "    </tr>\n",
       "    <tr>\n",
       "      <th>1331</th>\n",
       "      <td>-2.522880</td>\n",
       "      <td>-0.584756</td>\n",
       "      <td>0.664980</td>\n",
       "      <td>1.561998</td>\n",
       "      <td>0.813387</td>\n",
       "    </tr>\n",
       "    <tr>\n",
       "      <th>885</th>\n",
       "      <td>-1.138035</td>\n",
       "      <td>-1.079457</td>\n",
       "      <td>1.787311</td>\n",
       "      <td>-0.343930</td>\n",
       "      <td>-1.154090</td>\n",
       "    </tr>\n",
       "    <tr>\n",
       "      <th>1500</th>\n",
       "      <td>1.674933</td>\n",
       "      <td>0.593733</td>\n",
       "      <td>-1.084536</td>\n",
       "      <td>-1.011005</td>\n",
       "      <td>0.379009</td>\n",
       "    </tr>\n",
       "    <tr>\n",
       "      <th>1158</th>\n",
       "      <td>2.937163</td>\n",
       "      <td>1.759030</td>\n",
       "      <td>-1.183565</td>\n",
       "      <td>-1.106302</td>\n",
       "      <td>0.921982</td>\n",
       "    </tr>\n",
       "  </tbody>\n",
       "</table>\n",
       "<p>1490 rows × 5 columns</p>\n",
       "</div>"
      ],
      "text/plain": [
       "      Total Bsmt SF  Gr Liv Area  age_when_sold  age_when_remodeled  \\\n",
       "728        0.855085    -0.156014      -1.051526           -0.915709   \n",
       "178        0.629086     2.071242      -0.688419           -0.439227   \n",
       "302       -0.830291     0.193575       1.061097            1.704942   \n",
       "1728      -0.676419     0.132012      -1.117546           -1.058654   \n",
       "593        0.227577    -0.103246       0.367892           -0.153338   \n",
       "...             ...          ...            ...                 ...   \n",
       "1162       0.155450    -0.795828      -1.051526           -0.915709   \n",
       "1331      -2.522880    -0.584756       0.664980            1.561998   \n",
       "885       -1.138035    -1.079457       1.787311           -0.343930   \n",
       "1500       1.674933     0.593733      -1.084536           -1.011005   \n",
       "1158       2.937163     1.759030      -1.183565           -1.106302   \n",
       "\n",
       "      Porch Total SF  \n",
       "728        -0.055369  \n",
       "178         2.806416  \n",
       "302        -1.154090  \n",
       "1728       -0.272558  \n",
       "593         0.928370  \n",
       "...              ...  \n",
       "1162       -0.502523  \n",
       "1331        0.813387  \n",
       "885        -1.154090  \n",
       "1500        0.379009  \n",
       "1158        0.921982  \n",
       "\n",
       "[1490 rows x 5 columns]"
      ]
     },
     "execution_count": 50,
     "metadata": {},
     "output_type": "execute_result"
    }
   ],
   "source": [
    "Z_train\n"
   ]
  },
  {
   "cell_type": "code",
   "execution_count": 51,
   "id": "069fefae",
   "metadata": {},
   "outputs": [],
   "source": [
    "Z_train = pd.concat([Z_train,Xz_train.select_dtypes('object')], axis=1)\n",
    "Z_test = pd.concat([Z_test,Xz_test.select_dtypes('object')], axis=1)"
   ]
  },
  {
   "cell_type": "code",
   "execution_count": 52,
   "id": "bec6dd5d",
   "metadata": {},
   "outputs": [],
   "source": [
    "Z = pd.concat([Z,Xz.select_dtypes('object')], axis=1)"
   ]
  },
  {
   "cell_type": "code",
   "execution_count": 53,
   "id": "2035a7a6",
   "metadata": {},
   "outputs": [],
   "source": [
    "# nominal variables\n",
    "Z_train = map_nominal_combine_labels(Z_train)\n",
    "Z_test = map_nominal_combine_labels(Z_test)\n",
    "Z = map_nominal_combine_labels(Z)\n",
    "\n",
    "Z_train = get_dummies(Z_train)\n",
    "Z_test = get_dummies(Z_test)\n",
    "Z = get_dummies(Z)"
   ]
  },
  {
   "cell_type": "code",
   "execution_count": 54,
   "id": "ae77cdae",
   "metadata": {},
   "outputs": [],
   "source": [
    "# numeric(rooms) variables\n",
    "Z_train = get_dummies_numeric(Z_train)\n",
    "Z_test = get_dummies_numeric(Z_test)\n",
    "Z = get_dummies_numeric(Z)"
   ]
  },
  {
   "cell_type": "code",
   "execution_count": 55,
   "id": "18b47917",
   "metadata": {},
   "outputs": [],
   "source": [
    "Z_train = map_ordinal(Z_train)\n",
    "Z_test = map_ordinal(Z_test)\n",
    "Z = map_ordinal(Z)\n",
    "\n",
    "Z_train = get_dummies_ordinal(Z_train)\n",
    "Z_test = get_dummies_ordinal(Z_test)\n",
    "Z = get_dummies_ordinal(Z)\n",
    "#X = get_dummies_ordinal(X)"
   ]
  },
  {
   "cell_type": "code",
   "execution_count": 56,
   "id": "0f495c24",
   "metadata": {},
   "outputs": [
    {
     "data": {
      "text/plain": [
       "(0, 0)"
      ]
     },
     "execution_count": 56,
     "metadata": {},
     "output_type": "execute_result"
    }
   ],
   "source": [
    "(check_nulls(Z_train), check_nulls(Z_test))"
   ]
  },
  {
   "cell_type": "code",
   "execution_count": 57,
   "id": "57a7f43d",
   "metadata": {},
   "outputs": [
    {
     "data": {
      "text/plain": [
       "(Index([], dtype='object'), Index([], dtype='object'))"
      ]
     },
     "execution_count": 57,
     "metadata": {},
     "output_type": "execute_result"
    }
   ],
   "source": [
    "check_obj_cols(Z_train), check_obj_cols(Z_test)"
   ]
  },
  {
   "cell_type": "code",
   "execution_count": 58,
   "id": "eec50e24",
   "metadata": {},
   "outputs": [],
   "source": [
    "Z_train = to_numeric(Z_train)\n",
    "Z_test = to_numeric(Z_test)\n",
    "Z = to_numeric(Z)"
   ]
  },
  {
   "cell_type": "code",
   "execution_count": 59,
   "id": "c0c1bc10",
   "metadata": {
    "scrolled": true
   },
   "outputs": [
    {
     "name": "stdout",
     "output_type": "stream",
     "text": [
      "Variables in features but not in Dataframe: ['Lot Area', 'Land Contour', 'Lot Shape', 'Pool Area', 'Street', 'Mas Vnr Type', 'Lot Config', 'Roof Style']\n",
      "Variables in Dataframe but not in features: ['Porch Total SF', 'age', 'house', 'Pool QC']\n",
      "Variables in features but not in Dataframe: ['Lot Area', 'Land Contour', 'Lot Shape', 'Pool Area', 'Street', 'Mas Vnr Type', 'Lot Config', 'Roof Style']\n",
      "Variables in Dataframe but not in features: ['Porch Total SF', 'age', 'house', 'Pool QC']\n"
     ]
    },
    {
     "data": {
      "text/plain": [
       "(None, None)"
      ]
     },
     "execution_count": 59,
     "metadata": {},
     "output_type": "execute_result"
    }
   ],
   "source": [
    "(check_features(Z_train), check_features(Z_test))"
   ]
  },
  {
   "cell_type": "code",
   "execution_count": 60,
   "id": "3d385b44",
   "metadata": {},
   "outputs": [
    {
     "data": {
      "text/plain": [
       "((1490, 136), (497, 137))"
      ]
     },
     "execution_count": 60,
     "metadata": {},
     "output_type": "execute_result"
    }
   ],
   "source": [
    "Z_train.shape, Z_test.shape"
   ]
  },
  {
   "cell_type": "code",
   "execution_count": 61,
   "id": "9bed6ba3",
   "metadata": {},
   "outputs": [],
   "source": [
    "#Z_train, Z_test = Z_train.align(Z_test, join='outer', fill_value = 0, axis=1)\n",
    "Z_train, Z_test = Z_train.align(Z_test, join='inner', fill_value = 0, axis=1)"
   ]
  },
  {
   "cell_type": "code",
   "execution_count": 62,
   "id": "f1a0273a",
   "metadata": {},
   "outputs": [
    {
     "data": {
      "text/plain": [
       "((1490, 132), (497, 132))"
      ]
     },
     "execution_count": 62,
     "metadata": {},
     "output_type": "execute_result"
    }
   ],
   "source": [
    "Z_train.shape, Z_test.shape"
   ]
  },
  {
   "cell_type": "code",
   "execution_count": 63,
   "id": "ca0e5ae5",
   "metadata": {},
   "outputs": [
    {
     "data": {
      "text/plain": [
       "(1987, 141)"
      ]
     },
     "execution_count": 63,
     "metadata": {},
     "output_type": "execute_result"
    }
   ],
   "source": [
    "Z.shape"
   ]
  },
  {
   "cell_type": "code",
   "execution_count": 64,
   "id": "d69d21ee",
   "metadata": {},
   "outputs": [],
   "source": [
    "#Z_test, Z = Z_test.align(Z, join='outer', fill_value = 0, axis=1)\n",
    "#X, XTest = X.align(XTest, join='outer', fill_value = 0, axis=1)\n",
    "Z = Z[Z_train.columns]"
   ]
  },
  {
   "cell_type": "code",
   "execution_count": 65,
   "id": "b88dc364",
   "metadata": {},
   "outputs": [
    {
     "data": {
      "text/plain": [
       "((497, 132), (1987, 132))"
      ]
     },
     "execution_count": 65,
     "metadata": {},
     "output_type": "execute_result"
    }
   ],
   "source": [
    "Z_test.shape, Z.shape"
   ]
  },
  {
   "cell_type": "markdown",
   "id": "9de2785a",
   "metadata": {},
   "source": [
    "### Regularization Using Ridge"
   ]
  },
  {
   "cell_type": "code",
   "execution_count": 66,
   "id": "714e2d02",
   "metadata": {},
   "outputs": [
    {
     "data": {
      "text/plain": [
       "RidgeCV(alphas=array([0.1       , 0.1023531 , 0.10476158, 0.10722672, 0.10974988,\n",
       "       0.1123324 , 0.1149757 , 0.1176812 , 0.12045035, 0.12328467,\n",
       "       0.12618569, 0.12915497, 0.13219411, 0.13530478, 0.13848864,\n",
       "       0.14174742, 0.14508288, 0.14849683, 0.15199111, 0.15556761,\n",
       "       0.15922828, 0.16297508, 0.16681005, 0.17073526, 0.17475284,\n",
       "       0.17886495, 0.18307383, 0.18738174, 0.19179103, 0.19630407,\n",
       "       0.2009233...\n",
       "       0.5094138 , 0.52140083, 0.53366992, 0.54622772, 0.55908102,\n",
       "       0.57223677, 0.58570208, 0.59948425, 0.61359073, 0.62802914,\n",
       "       0.64280731, 0.65793322, 0.67341507, 0.68926121, 0.70548023,\n",
       "       0.7220809 , 0.7390722 , 0.75646333, 0.77426368, 0.7924829 ,\n",
       "       0.81113083, 0.83021757, 0.84975344, 0.869749  , 0.89021509,\n",
       "       0.91116276, 0.93260335, 0.95454846, 0.97700996, 1.        ]),\n",
       "        cv=10, scoring='neg_root_mean_squared_error')"
      ]
     },
     "execution_count": 66,
     "metadata": {},
     "output_type": "execute_result"
    }
   ],
   "source": [
    "# Set up a list of ridge alphas to check.\n",
    "# np.logspace generates 100 values equally between 0 and 5,\n",
    "# then converts them to alphas between 10^0 and 10^5.\n",
    "\n",
    "r_alphas = np.logspace(-1, 0, 100)\n",
    "\n",
    "# Cross-validate over our list of ridge alphas.\n",
    "ridge_cv = RidgeCV(alphas = r_alphas, scoring = 'neg_root_mean_squared_error', cv = 10)\n",
    "ridge_cv.fit(Z_train, yz_train)"
   ]
  },
  {
   "cell_type": "code",
   "execution_count": 67,
   "id": "dea00a8c",
   "metadata": {},
   "outputs": [
    {
     "data": {
      "text/plain": [
       "0.16297508346206444"
      ]
     },
     "execution_count": 67,
     "metadata": {},
     "output_type": "execute_result"
    }
   ],
   "source": [
    "ridge_cv.alpha_"
   ]
  },
  {
   "cell_type": "code",
   "execution_count": 68,
   "id": "1b30844a",
   "metadata": {},
   "outputs": [
    {
     "data": {
      "text/plain": [
       "((1490, 132), (1490,))"
      ]
     },
     "execution_count": 68,
     "metadata": {},
     "output_type": "execute_result"
    }
   ],
   "source": [
    "Z_train.shape, yz_train.shape"
   ]
  },
  {
   "cell_type": "code",
   "execution_count": 69,
   "id": "19f33480",
   "metadata": {},
   "outputs": [
    {
     "data": {
      "text/plain": [
       "((497, 132), (497,))"
      ]
     },
     "execution_count": 69,
     "metadata": {},
     "output_type": "execute_result"
    }
   ],
   "source": [
    "Z_test.shape, yz_test.shape"
   ]
  },
  {
   "cell_type": "code",
   "execution_count": 70,
   "id": "0c5b647c",
   "metadata": {},
   "outputs": [
    {
     "data": {
      "text/plain": [
       "array([-0.0979891 , -0.10660099, -0.12024147, -0.11684804, -0.12768046])"
      ]
     },
     "execution_count": 70,
     "metadata": {},
     "output_type": "execute_result"
    }
   ],
   "source": [
    "cvs = cross_val_score(ridge_cv, Z_train, yz_train, cv=5, scoring = 'neg_root_mean_squared_error')\n",
    "cvs"
   ]
  },
  {
   "cell_type": "code",
   "execution_count": 71,
   "id": "51fd4291",
   "metadata": {},
   "outputs": [
    {
     "data": {
      "text/plain": [
       "array([1.10295076, 1.11249027, 1.12776914, 1.12394862, 1.13618988])"
      ]
     },
     "execution_count": 71,
     "metadata": {},
     "output_type": "execute_result"
    }
   ],
   "source": [
    "np.exp(-1*cvs)"
   ]
  },
  {
   "cell_type": "code",
   "execution_count": 72,
   "id": "bc594d6a",
   "metadata": {},
   "outputs": [
    {
     "data": {
      "text/plain": [
       "-0.11387201095083081"
      ]
     },
     "execution_count": 72,
     "metadata": {},
     "output_type": "execute_result"
    }
   ],
   "source": [
    "mean_cvs = np.mean(cvs)\n",
    "mean_cvs"
   ]
  },
  {
   "cell_type": "code",
   "execution_count": 73,
   "id": "b27c771f",
   "metadata": {},
   "outputs": [
    {
     "data": {
      "text/plain": [
       "1.1206086900645738"
      ]
     },
     "execution_count": 73,
     "metadata": {},
     "output_type": "execute_result"
    }
   ],
   "source": [
    "np.exp(-1*mean_cvs)"
   ]
  },
  {
   "cell_type": "code",
   "execution_count": 74,
   "id": "b3d57967",
   "metadata": {
    "scrolled": true
   },
   "outputs": [
    {
     "data": {
      "text/plain": [
       "(0.9290875465971097, 0.9155985575656123)"
      ]
     },
     "execution_count": 74,
     "metadata": {},
     "output_type": "execute_result"
    }
   ],
   "source": [
    "ridge_cv.score(Z_train,yz_train), ridge_cv.score(Z_test,yz_test)"
   ]
  },
  {
   "cell_type": "code",
   "execution_count": 75,
   "id": "31aac493",
   "metadata": {},
   "outputs": [
    {
     "data": {
      "text/plain": [
       "Ridge(alpha=0.16297508346206444)"
      ]
     },
     "execution_count": 75,
     "metadata": {},
     "output_type": "execute_result"
    }
   ],
   "source": [
    "# Instantiate.\n",
    "\n",
    "ridge_model = Ridge(alpha = ridge_cv.alpha_)\n",
    "\n",
    "# Fit.\n",
    "ridge_model.fit(Z, np.log(yz))"
   ]
  },
  {
   "cell_type": "code",
   "execution_count": 76,
   "id": "d02a1c96",
   "metadata": {},
   "outputs": [],
   "source": [
    "yz_preds = ridge_model.predict(Z)"
   ]
  },
  {
   "cell_type": "code",
   "execution_count": 77,
   "id": "d71476d3",
   "metadata": {},
   "outputs": [
    {
     "data": {
      "text/plain": [
       "18043.33159551126"
      ]
     },
     "execution_count": 77,
     "metadata": {},
     "output_type": "execute_result"
    }
   ],
   "source": [
    "ridge_rmse = metrics.mean_squared_error(y_true=yz, y_pred=np.exp(yz_preds), squared=False)\n",
    "ridge_rmse"
   ]
  },
  {
   "cell_type": "code",
   "execution_count": 78,
   "id": "5fb0e119",
   "metadata": {},
   "outputs": [],
   "source": [
    "resids = yz-np.exp(yz_preds)"
   ]
  },
  {
   "cell_type": "markdown",
   "id": "eb10f643",
   "metadata": {},
   "source": [
    "### Feature Engineering Test Dataset"
   ]
  },
  {
   "cell_type": "code",
   "execution_count": 79,
   "id": "ef87b278",
   "metadata": {},
   "outputs": [],
   "source": [
    "#start the model with both For Sure and Maybe columns as string types\n",
    "df = pd.read_csv('../datasets/test_clean_v1.csv', index_col=0, na_values=na_values,keep_default_na=False, dtype=dict_dtype)"
   ]
  },
  {
   "cell_type": "code",
   "execution_count": 80,
   "id": "e5694a50",
   "metadata": {},
   "outputs": [],
   "source": [
    "XTest = df.copy()\n",
    "test_id = XTest['Id']\n",
    "df=[]"
   ]
  },
  {
   "cell_type": "code",
   "execution_count": 81,
   "id": "b0439860",
   "metadata": {},
   "outputs": [
    {
     "data": {
      "text/plain": [
       "count    878.000000\n",
       "mean      37.333713\n",
       "std       30.469253\n",
       "min        0.000000\n",
       "25%        8.250000\n",
       "50%       36.000000\n",
       "75%       54.750000\n",
       "max      129.000000\n",
       "Name: age_when_sold, dtype: float64"
      ]
     },
     "execution_count": 81,
     "metadata": {},
     "output_type": "execute_result"
    }
   ],
   "source": [
    "XTest = age_when_sold(XTest)\n",
    "XTest['age_when_sold'].describe()"
   ]
  },
  {
   "cell_type": "code",
   "execution_count": 82,
   "id": "869df0d3",
   "metadata": {},
   "outputs": [
    {
     "data": {
      "text/plain": [
       "count    878.000000\n",
       "mean      23.407745\n",
       "std       20.481547\n",
       "min        0.000000\n",
       "25%        5.000000\n",
       "50%       15.000000\n",
       "75%       41.000000\n",
       "max       60.000000\n",
       "Name: age_when_remodeled, dtype: float64"
      ]
     },
     "execution_count": 82,
     "metadata": {},
     "output_type": "execute_result"
    }
   ],
   "source": [
    "XTest = age_when_remodeled(XTest)\n",
    "XTest['age_when_remodeled'].describe()"
   ]
  },
  {
   "cell_type": "code",
   "execution_count": 83,
   "id": "23ed2bd8",
   "metadata": {},
   "outputs": [
    {
     "data": {
      "text/plain": [
       "count     878.000000\n",
       "mean      181.994305\n",
       "std       158.687494\n",
       "min         0.000000\n",
       "25%        45.000000\n",
       "50%       168.000000\n",
       "75%       264.000000\n",
       "max      1207.000000\n",
       "Name: Porch Total SF, dtype: float64"
      ]
     },
     "execution_count": 83,
     "metadata": {},
     "output_type": "execute_result"
    }
   ],
   "source": [
    "XTest = total_porch_sf(XTest)\n",
    "XTest['Porch Total SF'].describe()"
   ]
  },
  {
   "cell_type": "code",
   "execution_count": 84,
   "id": "a6d6cfe3",
   "metadata": {},
   "outputs": [],
   "source": [
    "XTest = house_with_pool(XTest)\n",
    "XTest['house_with_pool'] = XTest['house_with_pool'].astype(str)"
   ]
  },
  {
   "cell_type": "code",
   "execution_count": 85,
   "id": "7399e5ee",
   "metadata": {},
   "outputs": [],
   "source": [
    "XTest = drop_cols(XTest)"
   ]
  },
  {
   "cell_type": "code",
   "execution_count": 86,
   "id": "04ed5aef",
   "metadata": {},
   "outputs": [],
   "source": [
    "ZTest = ss.transform(XTest.select_dtypes(np.number))"
   ]
  },
  {
   "cell_type": "code",
   "execution_count": 87,
   "id": "c3d3b933",
   "metadata": {},
   "outputs": [],
   "source": [
    "ZTest = pd.DataFrame(ZTest, columns=XTest.select_dtypes(np.number).columns, index=XTest.index)\n"
   ]
  },
  {
   "cell_type": "code",
   "execution_count": 88,
   "id": "c642007f",
   "metadata": {},
   "outputs": [],
   "source": [
    "ZTest = pd.concat([ZTest,XTest.select_dtypes('object')], axis=1)\n"
   ]
  },
  {
   "cell_type": "code",
   "execution_count": 89,
   "id": "e2771d5c",
   "metadata": {},
   "outputs": [],
   "source": [
    "# nominal variables\n",
    "ZTest = map_nominal_combine_labels(ZTest)\n",
    "ZTest = get_dummies(ZTest)"
   ]
  },
  {
   "cell_type": "code",
   "execution_count": 90,
   "id": "bd9f7a9b",
   "metadata": {},
   "outputs": [],
   "source": [
    "# numeric(rooms) variables\n",
    "ZTest = get_dummies_numeric(ZTest)"
   ]
  },
  {
   "cell_type": "code",
   "execution_count": 91,
   "id": "8604dbed",
   "metadata": {},
   "outputs": [],
   "source": [
    "ZTest = map_ordinal(ZTest)\n",
    "ZTest = get_dummies_ordinal(ZTest)\n",
    "#XTest = get_dummies_ordinal(XTest)"
   ]
  },
  {
   "cell_type": "code",
   "execution_count": 92,
   "id": "8ec9b771",
   "metadata": {},
   "outputs": [
    {
     "data": {
      "text/plain": [
       "0"
      ]
     },
     "execution_count": 92,
     "metadata": {},
     "output_type": "execute_result"
    }
   ],
   "source": [
    "check_nulls(ZTest)"
   ]
  },
  {
   "cell_type": "code",
   "execution_count": 93,
   "id": "bffff2e2",
   "metadata": {},
   "outputs": [
    {
     "data": {
      "text/plain": [
       "Index([], dtype='object')"
      ]
     },
     "execution_count": 93,
     "metadata": {},
     "output_type": "execute_result"
    }
   ],
   "source": [
    "check_obj_cols(ZTest)"
   ]
  },
  {
   "cell_type": "code",
   "execution_count": 94,
   "id": "15ae3190",
   "metadata": {},
   "outputs": [],
   "source": [
    "ZTest = to_numeric(ZTest)"
   ]
  },
  {
   "cell_type": "code",
   "execution_count": 95,
   "id": "53a57016",
   "metadata": {
    "scrolled": true
   },
   "outputs": [
    {
     "name": "stdout",
     "output_type": "stream",
     "text": [
      "Variables in features but not in Dataframe: ['Lot Area', 'Land Contour', 'Lot Shape', 'Pool Area', 'Street', 'Mas Vnr Type', 'Lot Config', 'Roof Style']\n",
      "Variables in Dataframe but not in features: ['Porch Total SF', 'age', 'house', 'Pool QC']\n"
     ]
    }
   ],
   "source": [
    "check_features(ZTest)"
   ]
  },
  {
   "cell_type": "code",
   "execution_count": 96,
   "id": "fb2ae169",
   "metadata": {},
   "outputs": [
    {
     "data": {
      "text/plain": [
       "(878, 140)"
      ]
     },
     "execution_count": 96,
     "metadata": {},
     "output_type": "execute_result"
    }
   ],
   "source": [
    "ZTest.shape"
   ]
  },
  {
   "cell_type": "code",
   "execution_count": 97,
   "id": "12e8061d",
   "metadata": {},
   "outputs": [
    {
     "data": {
      "text/plain": [
       "(1490, 132)"
      ]
     },
     "execution_count": 97,
     "metadata": {},
     "output_type": "execute_result"
    }
   ],
   "source": [
    "Z_train.shape"
   ]
  },
  {
   "cell_type": "markdown",
   "id": "874bccbd",
   "metadata": {},
   "source": [
    "### Making Train and Test Columns Consistent"
   ]
  },
  {
   "cell_type": "code",
   "execution_count": 98,
   "id": "cf61c69a",
   "metadata": {},
   "outputs": [],
   "source": [
    "Z, ZTest = Z.align(ZTest, join='left', fill_value = 0, axis=1)\n",
    "#ZTest, Z_train = ZTest.align(Z_train, join='outer', fill_value = 0, axis=1)"
   ]
  },
  {
   "cell_type": "markdown",
   "id": "ce7d682b",
   "metadata": {},
   "source": [
    "### Kaggle Predictions"
   ]
  },
  {
   "cell_type": "code",
   "execution_count": 99,
   "id": "7af45886",
   "metadata": {},
   "outputs": [],
   "source": [
    "kaggle_preds = ridge_model.predict(ZTest)"
   ]
  },
  {
   "cell_type": "code",
   "execution_count": 100,
   "id": "7935aa0b",
   "metadata": {},
   "outputs": [
    {
     "data": {
      "text/plain": [
       "(878,)"
      ]
     },
     "execution_count": 100,
     "metadata": {},
     "output_type": "execute_result"
    }
   ],
   "source": [
    "kaggle_preds.shape"
   ]
  },
  {
   "cell_type": "code",
   "execution_count": 101,
   "id": "ec061e0e",
   "metadata": {},
   "outputs": [],
   "source": [
    "kaggle_output = {'Id':test_id, 'SalePrice':np.exp(kaggle_preds)}"
   ]
  },
  {
   "cell_type": "code",
   "execution_count": 102,
   "id": "5828ab44",
   "metadata": {},
   "outputs": [],
   "source": [
    "kaggle_output = pd.DataFrame(kaggle_output)"
   ]
  },
  {
   "cell_type": "code",
   "execution_count": 103,
   "id": "c03308ad",
   "metadata": {},
   "outputs": [],
   "source": [
    "kaggle_output.to_csv('../datasets/submission_ridge.csv', index = False) # Be sure to set index = False or kaggle will reject"
   ]
  },
  {
   "cell_type": "markdown",
   "id": "608dc33b",
   "metadata": {},
   "source": [
    "### Model Evaluation"
   ]
  },
  {
   "cell_type": "markdown",
   "id": "72e6877a",
   "metadata": {},
   "source": [
    "#### Comparison with Null Model"
   ]
  },
  {
   "cell_type": "code",
   "execution_count": 104,
   "id": "ec566bf1",
   "metadata": {},
   "outputs": [
    {
     "name": "stdout",
     "output_type": "stream",
     "text": [
      "The Null model RMSE score is 73598 and Ridge model RMSE is 18043.\n",
      "The linear model performs better than null model by 55555\n"
     ]
    }
   ],
   "source": [
    "#null_model\n",
    "null_mean = np.mean(yz)\n",
    "null_resids = yz-null_mean\n",
    "\n",
    "#null MSE\n",
    "null_mse = np.mean(null_resids ** 2)\n",
    "null_rmse = null_mse ** 0.5\n",
    "null_rmse = int(null_rmse)\n",
    "ridge_rmse = int(ridge_rmse)\n",
    "print (f'The Null model RMSE score is {null_rmse} and Ridge model RMSE is {ridge_rmse}.\\nThe linear model performs \\\n",
    "better than null model by {null_rmse-ridge_rmse}')"
   ]
  },
  {
   "cell_type": "markdown",
   "id": "0f84f7fc",
   "metadata": {},
   "source": [
    "#### LINEM Assumptions"
   ]
  },
  {
   "cell_type": "markdown",
   "id": "8d7fb492",
   "metadata": {},
   "source": [
    "LINEM\n",
    "- L - Linear relationship\n",
    "- I - Independent errors\n",
    "- N - Normally distributed errors\n",
    "- E - Equal variance of errors (homoscedasticity)\n",
    "- M - No Multicollinåearity/Independence of Predictors (intercorrelation)"
   ]
  },
  {
   "cell_type": "markdown",
   "id": "4a99e5f9",
   "metadata": {},
   "source": [
    "[Validating the LINE Assumptions](https://www.jmp.com/en_us/statistics-knowledge-portal/what-is-regression/simple-linear-regression-assumptions.html)<br>\n",
    "We will plot a residuals plot which is plot of residuals vs predicted value to see if the:\n",
    "- have a constant variance\n",
    "- be approximately normally distributed (with a mean of zero) and\n",
    "- be independednt of one another"
   ]
  },
  {
   "cell_type": "code",
   "execution_count": 105,
   "id": "e948ecd0",
   "metadata": {},
   "outputs": [
    {
     "name": "stderr",
     "output_type": "stream",
     "text": [
      "findfont: Font family ['Cambria'] not found. Falling back to DejaVu Sans.\n",
      "findfont: Font family ['Cambria'] not found. Falling back to DejaVu Sans.\n",
      "findfont: Font family ['Cambria'] not found. Falling back to DejaVu Sans.\n"
     ]
    },
    {
     "data": {
      "image/png": "[encoded data removed]",
      "text/plain": [
       "<Figure size 1080x360 with 2 Axes>"
      ]
     },
     "metadata": {},
     "output_type": "display_data"
    }
   ],
   "source": [
    "fig, (ax1, ax2) = plt.subplots(nrows=1, ncols=2, constrained_layout=False, figsize = (15,5))\n",
    "fig.suptitle('Residuals Plot')\n",
    "ax1.set_title('Residuals vs Predicted Value')\n",
    "ax1.scatter(np.exp(yz_preds), resids, color = 'palevioletred')\n",
    "ax1.axhline(y=0, color='ghostwhite', linestyle='--', linewidth=3)\n",
    "ax1.set_xlabel('Predicted Value of Sale Price', )\n",
    "ax1.set_ylabel('Residuals of the MLR-Ridge Model')\n",
    "\n",
    "ax2.set_title('Distribution of Residuals')\n",
    "ax2.hist(resids, color = 'palevioletred', bins=50)\n",
    "ax2.set_xlabel('Residuals', )\n",
    "ax2.set_ylabel('Frequency')\n",
    "format_fig(fig, 'NoFormatting')\n",
    "fig.savefig('../imgs/Validating_LINEM_Assumptions_Ridge_Model.png', dpi=100, bbox_inches='tight')\n",
    "\n",
    "\n",
    "\n"
   ]
  },
  {
   "cell_type": "code",
   "execution_count": 106,
   "id": "6f8598a4",
   "metadata": {},
   "outputs": [
    {
     "data": {
      "image/png": "[encoded data removed]",
      "text/plain": [
       "<Figure size 504x360 with 1 Axes>"
      ]
     },
     "metadata": {},
     "output_type": "display_data"
    }
   ],
   "source": [
    "fig, (ax1) = plt.subplots(nrows=1, ncols=1, constrained_layout=False, figsize = (7,5))\n",
    "fig.suptitle('Predicted vs Actual Sale Price')\n",
    "#ax1.set_title('Residuals vs Predicted Value')\n",
    "ax1.scatter(yz, np.exp(yz_preds), color = 'palevioletred')\n",
    "ax1.set_xlabel('Actual Value of Sale Price', )\n",
    "ax1.set_ylabel('Predicted Value of Sale Price')\n",
    "ax1.axline([0, 0], [1, 1], color='ghostwhite', linestyle='--', linewidth=3)\n",
    "\n",
    "format_fig(fig, 'NoFormatting')\n",
    "\n",
    "fig.savefig('../imgs/Predicted_vs_Actual_SalePrice_Ridge_Model.png', dpi=100, bbox_inches='tight')\n",
    "\n",
    "\n"
   ]
  },
  {
   "cell_type": "code",
   "execution_count": 107,
   "id": "d4247b92",
   "metadata": {},
   "outputs": [
    {
     "data": {
      "text/html": [
       "<div>\n",
       "<style scoped>\n",
       "    .dataframe tbody tr th:only-of-type {\n",
       "        vertical-align: middle;\n",
       "    }\n",
       "\n",
       "    .dataframe tbody tr th {\n",
       "        vertical-align: top;\n",
       "    }\n",
       "\n",
       "    .dataframe thead th {\n",
       "        text-align: right;\n",
       "    }\n",
       "</style>\n",
       "<table border=\"1\" class=\"dataframe\">\n",
       "  <thead>\n",
       "    <tr style=\"text-align: right;\">\n",
       "      <th></th>\n",
       "      <th>Coeff</th>\n",
       "    </tr>\n",
       "  </thead>\n",
       "  <tbody>\n",
       "    <tr>\n",
       "      <th>Total Bsmt SF</th>\n",
       "      <td>0.033889</td>\n",
       "    </tr>\n",
       "    <tr>\n",
       "      <th>Gr Liv Area</th>\n",
       "      <td>0.119136</td>\n",
       "    </tr>\n",
       "    <tr>\n",
       "      <th>age_when_sold</th>\n",
       "      <td>-0.038133</td>\n",
       "    </tr>\n",
       "    <tr>\n",
       "      <th>age_when_remodeled</th>\n",
       "      <td>-0.034702</td>\n",
       "    </tr>\n",
       "    <tr>\n",
       "      <th>Porch Total SF</th>\n",
       "      <td>0.016475</td>\n",
       "    </tr>\n",
       "    <tr>\n",
       "      <th>...</th>\n",
       "      <td>...</td>\n",
       "    </tr>\n",
       "    <tr>\n",
       "      <th>BsmtFin Type 1_2</th>\n",
       "      <td>-0.015886</td>\n",
       "    </tr>\n",
       "    <tr>\n",
       "      <th>BsmtFin Type 1_3</th>\n",
       "      <td>0.023503</td>\n",
       "    </tr>\n",
       "    <tr>\n",
       "      <th>BsmtFin Type 1_4</th>\n",
       "      <td>0.039443</td>\n",
       "    </tr>\n",
       "    <tr>\n",
       "      <th>BsmtFin Type 1_5</th>\n",
       "      <td>-0.025344</td>\n",
       "    </tr>\n",
       "    <tr>\n",
       "      <th>BsmtFin Type 1_6</th>\n",
       "      <td>0.035768</td>\n",
       "    </tr>\n",
       "  </tbody>\n",
       "</table>\n",
       "<p>132 rows × 1 columns</p>\n",
       "</div>"
      ],
      "text/plain": [
       "                       Coeff\n",
       "Total Bsmt SF       0.033889\n",
       "Gr Liv Area         0.119136\n",
       "age_when_sold      -0.038133\n",
       "age_when_remodeled -0.034702\n",
       "Porch Total SF      0.016475\n",
       "...                      ...\n",
       "BsmtFin Type 1_2   -0.015886\n",
       "BsmtFin Type 1_3    0.023503\n",
       "BsmtFin Type 1_4    0.039443\n",
       "BsmtFin Type 1_5   -0.025344\n",
       "BsmtFin Type 1_6    0.035768\n",
       "\n",
       "[132 rows x 1 columns]"
      ]
     },
     "execution_count": 107,
     "metadata": {},
     "output_type": "execute_result"
    }
   ],
   "source": [
    "pd.DataFrame(ridge_model.coef_, index=Z.columns, columns=['Coeff'])"
   ]
  },
  {
   "cell_type": "code",
   "execution_count": 108,
   "id": "20c5ca45",
   "metadata": {
    "scrolled": false
   },
   "outputs": [
    {
     "data": {
      "image/png": "[encoded data removed]",
      "text/plain": [
       "<Figure size 360x1800 with 1 Axes>"
      ]
     },
     "metadata": {},
     "output_type": "display_data"
    }
   ],
   "source": [
    "fig, (ax1) = plt.subplots(nrows=1, ncols=1, constrained_layout=True, figsize = (5,25))\n",
    "fig.suptitle('Ridge Model Regression Coefficients')\n",
    "pd.DataFrame(ridge_model.coef_, index=Z.columns, columns=['Coeff']).sort_values(by=['Coeff'], ascending=False).plot.barh(ax=ax1, facecolor='palevioletred')\n",
    "lgd = ax1.legend()\n",
    "lgd.set_visible(False)\n",
    "format_fig(fig, 'NoFormatting')\n",
    "fig.savefig('../imgs/Ridge_Model_Regression_Coefficients.png', dpi=dpi, bbox_inches='tight')\n",
    "\n",
    "\n"
   ]
  }
 ],
 "metadata": {
  "kernelspec": {
   "display_name": "Python 3",
   "language": "python",
   "name": "python3"
  },
  "language_info": {
   "codemirror_mode": {
    "name": "ipython",
    "version": 3
   },
   "file_extension": ".py",
   "mimetype": "text/x-python",
   "name": "python",
   "nbconvert_exporter": "python",
   "pygments_lexer": "ipython3",
   "version": "3.8.8"
  }
 },
 "nbformat": 4,
 "nbformat_minor": 5
}
